{
 "cells": [
  {
   "cell_type": "code",
   "id": "initial_id",
   "metadata": {
    "collapsed": true,
    "ExecuteTime": {
     "end_time": "2025-01-13T19:47:30.697686Z",
     "start_time": "2025-01-13T19:47:30.182672Z"
    }
   },
   "source": [
    "import numpy as np\n",
    "from datetime import datetime\n",
    "import pandas as pd\n",
    "\n",
    "data = {\n",
    "    'Item Name': ['Apples', 'Milk', 'Bread', 'Eggs', 'Bananas', 'Cheese',\n",
    "                  'Tomatoes', 'Potatoes', 'Onions', 'Chicken',\n",
    "                  'Pasta', 'Rice', 'Bread','Yogurt', 'Ice Cream', 'Cereal'],\n",
    "    'Quantity': [5, 1, 1, 3, 5, 2, 3, 4, 1, 2, -3, 2, 2, 2, 1, 3],\n",
    "    'Unit Price': [1.5, 2.0, np.nan, 0.2, 1.0, 3.0, 1.2, 0.5, 0.8, 5.0, 2.5, 1.0, 4.0, 4.0, 2.0, 1.0],\n",
    "    'Purchase Date': [\n",
    "        datetime(2024, 4, 1),\n",
    "        datetime(2024, 4, 2),\n",
    "        datetime(2024, 4, 2),\n",
    "        datetime(2024, 4, 3),\n",
    "        datetime(2024, 4, 3),\n",
    "        datetime(2024, 4, 3),\n",
    "        datetime(2024, 4, 4),\n",
    "        datetime(2024, 4, 4),\n",
    "        datetime(2024, 4, 7),\n",
    "        datetime(2024, 4, 7),\n",
    "        datetime(2024, 4, 7),\n",
    "        datetime(2024, 4, 1),\n",
    "        datetime(2024, 4, 4),\n",
    "        datetime(2024, 4, 2),\n",
    "        datetime(2024, 4, 3),\n",
    "        datetime(2024, 4, 1)\n",
    "    ],\n",
    "    'Category': ['Fruits', 'Dairy', 'Bakery', np.nan, 'Fruits', 'Dairy',\n",
    "                 'Vegetables', np.nan, 'Vegetables', 'Meat',\n",
    "                 'Pasta', 'Grains', 'Bakery','Dairy', 'Desserts', 'Cereal']\n",
    "}"
   ],
   "outputs": [],
   "execution_count": 2
  },
  {
   "metadata": {
    "ExecuteTime": {
     "end_time": "2025-01-13T19:50:36.923308Z",
     "start_time": "2025-01-13T19:50:36.898212Z"
    }
   },
   "cell_type": "code",
   "source": [
    "df = pd.DataFrame(data)\n",
    "df.head()"
   ],
   "id": "1e79ec5ee2722556",
   "outputs": [
    {
     "data": {
      "text/plain": [
       "  Item Name  Quantity  Unit Price Purchase Date Category\n",
       "0    Apples         5         1.5    2024-04-01   Fruits\n",
       "1      Milk         1         2.0    2024-04-02    Dairy\n",
       "2     Bread         1         NaN    2024-04-02   Bakery\n",
       "3      Eggs         3         0.2    2024-04-03      NaN\n",
       "4   Bananas         5         1.0    2024-04-03   Fruits"
      ],
      "text/html": [
       "<div>\n",
       "<style scoped>\n",
       "    .dataframe tbody tr th:only-of-type {\n",
       "        vertical-align: middle;\n",
       "    }\n",
       "\n",
       "    .dataframe tbody tr th {\n",
       "        vertical-align: top;\n",
       "    }\n",
       "\n",
       "    .dataframe thead th {\n",
       "        text-align: right;\n",
       "    }\n",
       "</style>\n",
       "<table border=\"1\" class=\"dataframe\">\n",
       "  <thead>\n",
       "    <tr style=\"text-align: right;\">\n",
       "      <th></th>\n",
       "      <th>Item Name</th>\n",
       "      <th>Quantity</th>\n",
       "      <th>Unit Price</th>\n",
       "      <th>Purchase Date</th>\n",
       "      <th>Category</th>\n",
       "    </tr>\n",
       "  </thead>\n",
       "  <tbody>\n",
       "    <tr>\n",
       "      <th>0</th>\n",
       "      <td>Apples</td>\n",
       "      <td>5</td>\n",
       "      <td>1.5</td>\n",
       "      <td>2024-04-01</td>\n",
       "      <td>Fruits</td>\n",
       "    </tr>\n",
       "    <tr>\n",
       "      <th>1</th>\n",
       "      <td>Milk</td>\n",
       "      <td>1</td>\n",
       "      <td>2.0</td>\n",
       "      <td>2024-04-02</td>\n",
       "      <td>Dairy</td>\n",
       "    </tr>\n",
       "    <tr>\n",
       "      <th>2</th>\n",
       "      <td>Bread</td>\n",
       "      <td>1</td>\n",
       "      <td>NaN</td>\n",
       "      <td>2024-04-02</td>\n",
       "      <td>Bakery</td>\n",
       "    </tr>\n",
       "    <tr>\n",
       "      <th>3</th>\n",
       "      <td>Eggs</td>\n",
       "      <td>3</td>\n",
       "      <td>0.2</td>\n",
       "      <td>2024-04-03</td>\n",
       "      <td>NaN</td>\n",
       "    </tr>\n",
       "    <tr>\n",
       "      <th>4</th>\n",
       "      <td>Bananas</td>\n",
       "      <td>5</td>\n",
       "      <td>1.0</td>\n",
       "      <td>2024-04-03</td>\n",
       "      <td>Fruits</td>\n",
       "    </tr>\n",
       "  </tbody>\n",
       "</table>\n",
       "</div>"
      ]
     },
     "execution_count": 10,
     "metadata": {},
     "output_type": "execute_result"
    }
   ],
   "execution_count": 10
  },
  {
   "metadata": {
    "ExecuteTime": {
     "end_time": "2025-01-13T19:51:30.142318Z",
     "start_time": "2025-01-13T19:51:30.108810Z"
    }
   },
   "cell_type": "code",
   "source": "df.loc[df[\"Item Name\"] == \"Apples\", \"Category\"] =",
   "id": "57b91cd551c94672",
   "outputs": [
    {
     "data": {
      "text/plain": [
       "  Item Name  Quantity  Unit Price Purchase Date Category\n",
       "0    Apples         5         1.5    2024-04-01   Fruits\n",
       "1      Milk         1         2.0    2024-04-02    Dairy\n",
       "2     Bread         1         NaN    2024-04-02   Bakery\n",
       "3      Eggs         3         0.2    2024-04-03      NaN\n",
       "4   Bananas         5         1.0    2024-04-03   Fruits"
      ],
      "text/html": [
       "<div>\n",
       "<style scoped>\n",
       "    .dataframe tbody tr th:only-of-type {\n",
       "        vertical-align: middle;\n",
       "    }\n",
       "\n",
       "    .dataframe tbody tr th {\n",
       "        vertical-align: top;\n",
       "    }\n",
       "\n",
       "    .dataframe thead th {\n",
       "        text-align: right;\n",
       "    }\n",
       "</style>\n",
       "<table border=\"1\" class=\"dataframe\">\n",
       "  <thead>\n",
       "    <tr style=\"text-align: right;\">\n",
       "      <th></th>\n",
       "      <th>Item Name</th>\n",
       "      <th>Quantity</th>\n",
       "      <th>Unit Price</th>\n",
       "      <th>Purchase Date</th>\n",
       "      <th>Category</th>\n",
       "    </tr>\n",
       "  </thead>\n",
       "  <tbody>\n",
       "    <tr>\n",
       "      <th>0</th>\n",
       "      <td>Apples</td>\n",
       "      <td>5</td>\n",
       "      <td>1.5</td>\n",
       "      <td>2024-04-01</td>\n",
       "      <td>Fruits</td>\n",
       "    </tr>\n",
       "    <tr>\n",
       "      <th>1</th>\n",
       "      <td>Milk</td>\n",
       "      <td>1</td>\n",
       "      <td>2.0</td>\n",
       "      <td>2024-04-02</td>\n",
       "      <td>Dairy</td>\n",
       "    </tr>\n",
       "    <tr>\n",
       "      <th>2</th>\n",
       "      <td>Bread</td>\n",
       "      <td>1</td>\n",
       "      <td>NaN</td>\n",
       "      <td>2024-04-02</td>\n",
       "      <td>Bakery</td>\n",
       "    </tr>\n",
       "    <tr>\n",
       "      <th>3</th>\n",
       "      <td>Eggs</td>\n",
       "      <td>3</td>\n",
       "      <td>0.2</td>\n",
       "      <td>2024-04-03</td>\n",
       "      <td>NaN</td>\n",
       "    </tr>\n",
       "    <tr>\n",
       "      <th>4</th>\n",
       "      <td>Bananas</td>\n",
       "      <td>5</td>\n",
       "      <td>1.0</td>\n",
       "      <td>2024-04-03</td>\n",
       "      <td>Fruits</td>\n",
       "    </tr>\n",
       "  </tbody>\n",
       "</table>\n",
       "</div>"
      ]
     },
     "execution_count": 12,
     "metadata": {},
     "output_type": "execute_result"
    }
   ],
   "execution_count": 12
  },
  {
   "metadata": {
    "ExecuteTime": {
     "end_time": "2025-01-13T20:30:13.320859Z",
     "start_time": "2025-01-13T20:30:13.299174Z"
    }
   },
   "cell_type": "code",
   "source": [
    "test = df.groupby(\"Item Name\")[\"Unit Price\"]\n",
    "test.head(9)"
   ],
   "id": "f706f4b7573e916d",
   "outputs": [
    {
     "data": {
      "text/plain": [
       "0     1.5\n",
       "1     2.0\n",
       "2     NaN\n",
       "3     0.2\n",
       "4     1.0\n",
       "5     3.0\n",
       "6     1.2\n",
       "7     0.5\n",
       "8     0.8\n",
       "9     5.0\n",
       "10    2.5\n",
       "11    1.0\n",
       "12    4.0\n",
       "13    4.0\n",
       "14    2.0\n",
       "15    1.0\n",
       "Name: Unit Price, dtype: float64"
      ]
     },
     "execution_count": 35,
     "metadata": {},
     "output_type": "execute_result"
    }
   ],
   "execution_count": 35
  },
  {
   "metadata": {},
   "cell_type": "code",
   "outputs": [],
   "execution_count": null,
   "source": "",
   "id": "212405ce7de874f0"
  }
 ],
 "metadata": {
  "kernelspec": {
   "display_name": "Python 3",
   "language": "python",
   "name": "python3"
  },
  "language_info": {
   "codemirror_mode": {
    "name": "ipython",
    "version": 2
   },
   "file_extension": ".py",
   "mimetype": "text/x-python",
   "name": "python",
   "nbconvert_exporter": "python",
   "pygments_lexer": "ipython2",
   "version": "2.7.6"
  }
 },
 "nbformat": 4,
 "nbformat_minor": 5
}
